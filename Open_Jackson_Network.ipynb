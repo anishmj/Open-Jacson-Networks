{
 "cells": [
  {
   "cell_type": "code",
   "execution_count": 1,
   "id": "0303e65a",
   "metadata": {},
   "outputs": [
    {
     "name": "stdout",
     "output_type": "stream",
     "text": [
      "Enter the mean inter arrival time of objects from Feeder (in secs): 12\n",
      "Enter the mean  inter service time of Lathe Machine 1 (in secs) :  1\n",
      "Enter the mean  inter service time of Lathe Machine 2 (in secs) :  1.5\n",
      "Enter the mean  inter service time of Lathe Machine 3 (in secs) :  1.3\n",
      "Enter the Additional time taken for the Robot (in secs) :  7\n"
     ]
    }
   ],
   "source": [
    "arr_time=float(input(\"Enter the mean inter arrival time of objects from Feeder (in secs): \"))\n",
    "ser_time1=float(input(\"Enter the mean  inter service time of Lathe Machine 1 (in secs) :  \"))\n",
    "ser_time2=float(input(\"Enter the mean  inter service time of Lathe Machine 2 (in secs) :  \"))\n",
    "ser_time3=float(input(\"Enter the mean  inter service time of Lathe Machine 3 (in secs) :  \"))\n",
    "Robot_time=float(input(\"Enter the Additional time taken for the Robot (in secs) :  \"))"
   ]
  },
  {
   "cell_type": "code",
   "execution_count": 2,
   "id": "952e21cf",
   "metadata": {},
   "outputs": [],
   "source": [
    "lam=1/arr_time\n",
    "mu1=1/(ser_time1+Robot_time)\n",
    "mu2=1/(ser_time2+Robot_time)\n",
    "mu3=1/(ser_time3+Robot_time)\n"
   ]
  },
  {
   "cell_type": "code",
   "execution_count": 3,
   "id": "17565951",
   "metadata": {},
   "outputs": [
    {
     "name": "stdout",
     "output_type": "stream",
     "text": [
      "-----------------------------------------------------------------------\n",
      "Series Queues with infinite capacity- Open Jackson Network\n",
      "-----------------------------------------------------------------------\n",
      "Average number of objects in the system S1 : 2.00 \n",
      "Average number of objects in the system S2 : 2.43 \n",
      "Average number of objects in the system S3 : 2.24 \n",
      "Average number of objects in the overall system    : 6.67 \n",
      "Average number of objects in the conveyor S1  :  1.33 \n",
      "Average number of objects in the conveyor S2  :  1.72 \n",
      "Average number of objects in the conveyor S3  :  1.55 \n",
      "Average waiting time of an object in the conveyor S1 : 16.00 secs\n",
      "Average waiting time of an object in the conveyor S2 : 20.64 secs\n",
      "Average waiting time of an object in the conveyor S3 : 18.62 secs\n",
      "----------------------------------------------------------------------\n"
     ]
    }
   ],
   "source": [
    "print(\"-----------------------------------------------------------------------\")\n",
    "print(\"Series Queues with infinite capacity- Open Jackson Network\")\n",
    "print(\"-----------------------------------------------------------------------\")\n",
    "if (lam <  mu1) and (lam <  mu2) and (lam <  mu3):\n",
    "    Ls1=lam/(mu1-lam)\n",
    "    Ls2=lam/(mu2-lam)\n",
    "    Ls3=lam/(mu3-lam)\n",
    "    Ls=Ls1+Ls2+Ls3\n",
    "    Lq1=Ls1-lam/mu1\n",
    "    Lq2=Ls2-lam/mu2\n",
    "    Lq3=Ls3-lam/mu3\n",
    "    Wq1=Lq1/lam\n",
    "    Wq2=Lq2/lam\n",
    "    Wq3=Lq3/lam\n",
    "    Ws=Ls/(3*lam)\n",
    "    print(\"Average number of objects in the system S1 : %0.2f \"%Ls1)\n",
    "    print(\"Average number of objects in the system S2 : %0.2f \"%Ls2)\n",
    "    print(\"Average number of objects in the system S3 : %0.2f \"%Ls3)\n",
    "    print(\"Average number of objects in the overall system    : %0.2f \"%Ls)\n",
    "    print(\"Average number of objects in the conveyor S1  :  %0.2f \"%Lq1)\n",
    "    print(\"Average number of objects in the conveyor S2  :  %0.2f \"%Lq2)\n",
    "    print(\"Average number of objects in the conveyor S3  :  %0.2f \"%Lq3)\n",
    "    print(\"Average waiting time of an object in the conveyor S1 : %0.2f secs\"%Wq1)\n",
    "    print(\"Average waiting time of an object in the conveyor S2 : %0.2f secs\"%Wq2)\n",
    "    print(\"Average waiting time of an object in the conveyor S3 : %0.2f secs\"%Wq3)\n",
    "else:\n",
    "    print(\"Warning! Objects Over flow will happen in the conveyor\")\n",
    "print(\"----------------------------------------------------------------------\")"
   ]
  },
  {
   "cell_type": "code",
   "execution_count": null,
   "id": "ee2b3bcf",
   "metadata": {},
   "outputs": [],
   "source": []
  }
 ],
 "metadata": {
  "kernelspec": {
   "display_name": "Python 3",
   "language": "python",
   "name": "python3"
  },
  "language_info": {
   "codemirror_mode": {
    "name": "ipython",
    "version": 3
   },
   "file_extension": ".py",
   "mimetype": "text/x-python",
   "name": "python",
   "nbconvert_exporter": "python",
   "pygments_lexer": "ipython3",
   "version": "3.8.8"
  }
 },
 "nbformat": 4,
 "nbformat_minor": 5
}
